{
  "nbformat": 4,
  "nbformat_minor": 0,
  "metadata": {
    "colab": {
      "provenance": [],
      "authorship_tag": "ABX9TyPP9BT0/y7u1MuEGsGv9rW6",
      "include_colab_link": true
    },
    "kernelspec": {
      "name": "python3",
      "display_name": "Python 3"
    },
    "language_info": {
      "name": "python"
    }
  },
  "cells": [
    {
      "cell_type": "markdown",
      "metadata": {
        "id": "view-in-github",
        "colab_type": "text"
      },
      "source": [
        "<a href=\"https://colab.research.google.com/github/liaorfei/EPIPREP/blob/main/GHSL_POP_dataProcessing.ipynb\" target=\"_parent\"><img src=\"https://colab.research.google.com/assets/colab-badge.svg\" alt=\"Open In Colab\"/></a>"
      ]
    },
    {
      "cell_type": "code",
      "source": [
        "%pip install rasterio"
      ],
      "metadata": {
        "colab": {
          "base_uri": "https://localhost:8080/"
        },
        "id": "mgJ9ugSdv0w-",
        "outputId": "cc6c1eab-6fe0-4bcf-add1-cf7323823a6f"
      },
      "execution_count": 2,
      "outputs": [
        {
          "output_type": "stream",
          "name": "stdout",
          "text": [
            "Collecting rasterio\n",
            "  Downloading rasterio-1.4.1-cp310-cp310-manylinux_2_17_x86_64.manylinux2014_x86_64.whl.metadata (9.1 kB)\n",
            "Collecting affine (from rasterio)\n",
            "  Downloading affine-2.4.0-py3-none-any.whl.metadata (4.0 kB)\n",
            "Requirement already satisfied: attrs in /usr/local/lib/python3.10/dist-packages (from rasterio) (24.2.0)\n",
            "Requirement already satisfied: certifi in /usr/local/lib/python3.10/dist-packages (from rasterio) (2024.8.30)\n",
            "Requirement already satisfied: click>=4.0 in /usr/local/lib/python3.10/dist-packages (from rasterio) (8.1.7)\n",
            "Collecting cligj>=0.5 (from rasterio)\n",
            "  Downloading cligj-0.7.2-py3-none-any.whl.metadata (5.0 kB)\n",
            "Requirement already satisfied: numpy>=1.24 in /usr/local/lib/python3.10/dist-packages (from rasterio) (1.26.4)\n",
            "Collecting click-plugins (from rasterio)\n",
            "  Downloading click_plugins-1.1.1-py2.py3-none-any.whl.metadata (6.4 kB)\n",
            "Requirement already satisfied: pyparsing in /usr/local/lib/python3.10/dist-packages (from rasterio) (3.1.4)\n",
            "Downloading rasterio-1.4.1-cp310-cp310-manylinux_2_17_x86_64.manylinux2014_x86_64.whl (22.2 MB)\n",
            "\u001b[2K   \u001b[90m━━━━━━━━━━━━━━━━━━━━━━━━━━━━━━━━━━━━━━━━\u001b[0m \u001b[32m22.2/22.2 MB\u001b[0m \u001b[31m68.7 MB/s\u001b[0m eta \u001b[36m0:00:00\u001b[0m\n",
            "\u001b[?25hDownloading cligj-0.7.2-py3-none-any.whl (7.1 kB)\n",
            "Downloading affine-2.4.0-py3-none-any.whl (15 kB)\n",
            "Downloading click_plugins-1.1.1-py2.py3-none-any.whl (7.5 kB)\n",
            "Installing collected packages: cligj, click-plugins, affine, rasterio\n",
            "Successfully installed affine-2.4.0 click-plugins-1.1.1 cligj-0.7.2 rasterio-1.4.1\n"
          ]
        }
      ]
    },
    {
      "cell_type": "code",
      "source": [
        "import rasterio as rio\n",
        "import pandas as pd\n",
        "import numpy as np"
      ],
      "metadata": {
        "id": "U1aYtj0WvoQH"
      },
      "execution_count": 6,
      "outputs": []
    },
    {
      "cell_type": "code",
      "execution_count": 7,
      "metadata": {
        "colab": {
          "base_uri": "https://localhost:8080/"
        },
        "id": "BxkycQ-yvcw3",
        "outputId": "80235165-193b-4dac-e103-36eed83ab8c8"
      },
      "outputs": [
        {
          "output_type": "stream",
          "name": "stdout",
          "text": [
            "Getting data from: GHS_POP_E2030_GLOBE_R2023A_54009_100_V1_0_R4_C19.tif\n",
            "The TIFF file has 1 band(s).\n",
            "   population        x          y\n",
            "0   37.330826 -41000.0  6000000.0\n",
            "1   80.518326 -40900.0  6000000.0\n",
            "2   62.383121 -40800.0  6000000.0\n",
            "3   74.915810 -40700.0  6000000.0\n",
            "4   58.324982 -40600.0  6000000.0\n"
          ]
        }
      ],
      "source": [
        "# Estract a dataframe of data from the .tif file that is contained in the .zip\n",
        "# taken from the GHSL website\n",
        "\n",
        "# Path to the zip archive and the specific TIFF file within the archive\n",
        "#dir_path = '/eos/jeodpp/data/projects/ETOHA/DATA/HumanPopData/GlobalHumanSettlementLayer_GHSL'\n",
        "#csv_name = 'DENGUE_Epico.csv'\n",
        "#csv_file_path = dir_path + '/' + csv_name\n",
        "#df = pd.read_csv(csv_file_path)\n",
        "#print(df.head())\n",
        "\n",
        "#fold_name = 'GHS_POP_E2030_GLOBE_R2023A_54009_100_V1_0'\n",
        "file_name = 'GHS_POP_E2030_GLOBE_R2023A_54009_100_V1_0_R4_C19.tif'\n",
        "\n",
        "#fold_path = dir_path + '/' + fold_name\n",
        "tif_file_path = file_name\n",
        "\n",
        "print(f\"Getting data from: {tif_file_path}\")\n",
        "\n",
        "# Open the georeferenced TIFF file directly from the ZIP archive\n",
        "with rio.open(tif_file_path) as src:\n",
        "    num_bands = src.count\n",
        "    #Print the number of bands\n",
        "    print(f\"The TIFF file has {num_bands} band(s).\")\n",
        "    # Read the entire raster as a NumPy array (assuming one band)\n",
        "    data = src.read(1) #assuming 1 band\n",
        "    # Get the number of bands from the dataset's count attribute\n",
        "\n",
        "\n",
        "    # Get the raster's dimensions\n",
        "    height, width = data.shape\n",
        "\n",
        "    # Reshape the data to a 1D array where each pixel is a row\n",
        "    data_reshaped = data.flatten()\n",
        "\n",
        "    # Create a pandas DataFrame from the reshaped data\n",
        "    df = pd.DataFrame(data_reshaped, columns=['population'])\n",
        "\n",
        "    # Get the affine transformation of the raster\n",
        "    transform = src.transform\n",
        "\n",
        "    # Generate row and column indices\n",
        "    row_indices, col_indices = np.indices((height, width))\n",
        "\n",
        "    # Convert row and column indices to spatial coordinates\n",
        "    coords = (transform * (col_indices.flatten(), row_indices.flatten()))\n",
        "\n",
        "    # Add the spatial coordinates to the DataFrame\n",
        "    df['x'] = coords[0]\n",
        "    df['y'] = coords[1]\n",
        "\n",
        "    # If needed, filter out nodata values (e.g., -9999 or another nodata value specified in the raster metadata)\n",
        "    nodata_value = src.nodata\n",
        "    if nodata_value is not None:\n",
        "        df = df[df['population'] != nodata_value]\n",
        "\n",
        "# Now you have a pandas DataFrame with population values and their spatial coordinates\n",
        "print(df.head())\n",
        "\n",
        "\n",
        "\n"
      ]
    }
  ]
}